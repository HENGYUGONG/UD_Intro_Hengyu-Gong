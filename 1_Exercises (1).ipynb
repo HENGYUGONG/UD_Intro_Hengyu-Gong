{
 "cells": [
  {
   "cell_type": "markdown",
   "id": "38e188a5",
   "metadata": {},
   "source": [
    "# Exercise 00\n",
    "Write a piece of code that allocates a list of 20 integers and initializes each element by its index multiplied by 5. Print the result."
   ]
  },
  {
   "cell_type": "code",
   "execution_count": 1,
   "id": "01aa4f35",
   "metadata": {},
   "outputs": [
    {
     "name": "stdout",
     "output_type": "stream",
     "text": [
      "[0, 5, 10, 15, 20, 25, 30, 35, 40, 45, 50, 55, 60, 65, 70, 75, 80, 85, 90, 95]\n"
     ]
    }
   ],
   "source": [
    "list_of_integers = []\n",
    "\n",
    "for i in range(20):\n",
    "    list_of_integers.append(i * 5)\n",
    "\n",
    "print(list_of_integers)\n"
   ]
  },
  {
   "cell_type": "markdown",
   "id": "529d91ae",
   "metadata": {},
   "source": [
    "# Exercise 01\n",
    "Define a function that takes an integer as input, prints  all integers that it is divisable by, and returns the largest one."
   ]
  },
  {
   "cell_type": "code",
   "execution_count": 2,
   "id": "30e79132",
   "metadata": {},
   "outputs": [
    {
     "name": "stdin",
     "output_type": "stream",
     "text": [
      "Enter an integer:  35\n"
     ]
    },
    {
     "name": "stdout",
     "output_type": "stream",
     "text": [
      "Divisors of 35 are:\n",
      "1\n",
      "5\n",
      "7\n",
      "35\n",
      "The largest divisor of 35 is: 35\n"
     ]
    }
   ],
   "source": [
    "def find_largest_divisor(n):\n",
    "    largest_divisor = None\n",
    "    \n",
    "    print(f\"Divisors of {n} are:\")\n",
    "    \n",
    "    for i in range(1, n + 1):\n",
    "        if n % i == 0:  \n",
    "            print(i)\n",
    "            largest_divisor = i  \n",
    "    \n",
    "    return largest_divisor\n",
    "\n",
    "number = int(input(\"Enter an integer: \"))\n",
    "largest = find_largest_divisor(number)\n",
    "print(f\"The largest divisor of {number} is: {largest}\")\n"
   ]
  },
  {
   "cell_type": "markdown",
   "id": "cfbe30d4",
   "metadata": {},
   "source": [
    "# Exercise 02\n",
    "- create a dictionary with 6 keys and values of your choice\n",
    "- write a function that takes a dictionary and a value as input and returns whether the value occurs as a key in the dictionary\n",
    "- write a function that takes a dictionary as input, and returns the dictionary but the keys are swapped with their values (resolve the issue if a value occurs twice!)"
   ]
  },
  {
   "cell_type": "code",
   "execution_count": 3,
   "id": "2123f1c6",
   "metadata": {},
   "outputs": [
    {
     "name": "stdout",
     "output_type": "stream",
     "text": [
      "False\n",
      "{1: 'white', 2: 'black', 3: 'pink', 4: 'yellow', 5: 'blue', 6: 'green'}\n"
     ]
    }
   ],
   "source": [
    "my_dict = {\n",
    "    \"white\": 1,\n",
    "    \"black\": 2,\n",
    "    \"pink\": 3,\n",
    "    \"yellow\": 4,\n",
    "    \"blue\": 5,\n",
    "    \"green\": 6\n",
    "}\n",
    "\n",
    "def is_key_in_dict(dictionary, value):\n",
    "    return value in dictionary\n",
    "\n",
    "value_to_check = \"banana\"\n",
    "print(is_key_in_dict(my_dict, value_to_check))  \n",
    "\n",
    "def swap_keys_and_values(dictionary):\n",
    "    swapped_dict = {}\n",
    "    for key, value in dictionary.items():\n",
    "        if value in swapped_dict.values():\n",
    "            new_value = f\"{value}_duplicate\"\n",
    "        else:\n",
    "            new_value = value\n",
    "        swapped_dict[new_value] = key\n",
    "    return swapped_dict\n",
    "\n",
    "swapped = swap_keys_and_values(my_dict)\n",
    "print(swapped)\n",
    "\n"
   ]
  },
  {
   "cell_type": "markdown",
   "id": "b4b4e426",
   "metadata": {},
   "source": [
    "# Exercise 03\n",
    "Define a function that creates a dictionary of the first n fibonacci numbers as values paired with their indices as keys. "
   ]
  },
  {
   "cell_type": "code",
   "execution_count": 4,
   "id": "7845b5a4",
   "metadata": {},
   "outputs": [
    {
     "name": "stdin",
     "output_type": "stream",
     "text": [
      "Enter the number of Fibonacci numbers to generate:  21\n"
     ]
    },
    {
     "name": "stdout",
     "output_type": "stream",
     "text": [
      "{0: 0, 1: 1, 2: 1, 3: 2, 4: 3, 5: 5, 6: 8, 7: 13, 8: 21, 9: 34, 10: 55, 11: 89, 12: 144, 13: 233, 14: 377, 15: 610, 16: 987, 17: 1597, 18: 2584, 19: 4181, 20: 6765}\n"
     ]
    }
   ],
   "source": [
    "def fibonacci_dict(n):\n",
    "    fib_dict = {}\n",
    "    \n",
    "    a, b = 0, 1\n",
    "    \n",
    "    for i in range(n):\n",
    "        fib_dict[i] = a  \n",
    "        a, b = b, a + b  \n",
    "    \n",
    "    return fib_dict\n",
    "\n",
    "n = int(input(\"Enter the number of Fibonacci numbers to generate: \"))\n",
    "fib_numbers = fibonacci_dict(n)\n",
    "print(fib_numbers)\n"
   ]
  },
  {
   "cell_type": "code",
   "execution_count": null,
   "id": "2bcda128-375e-4316-9299-1725ff32a42b",
   "metadata": {},
   "outputs": [],
   "source": []
  }
 ],
 "metadata": {
  "kernelspec": {
   "display_name": "Python 3 (ipykernel)",
   "language": "python",
   "name": "python3"
  },
  "language_info": {
   "codemirror_mode": {
    "name": "ipython",
    "version": 3
   },
   "file_extension": ".py",
   "mimetype": "text/x-python",
   "name": "python",
   "nbconvert_exporter": "python",
   "pygments_lexer": "ipython3",
   "version": "3.11.10"
  }
 },
 "nbformat": 4,
 "nbformat_minor": 5
}
